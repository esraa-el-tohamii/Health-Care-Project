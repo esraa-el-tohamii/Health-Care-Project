{
 "cells": [
  {
   "cell_type": "markdown",
   "id": "4b274c71",
   "metadata": {
    "papermill": {
     "duration": 0.018623,
     "end_time": "2025-04-14T19:49:51.270311",
     "exception": false,
     "start_time": "2025-04-14T19:49:51.251688",
     "status": "completed"
    },
    "tags": []
   },
   "source": [
    "## 1. Importing Libraries and reading data "
   ]
  },
  {
   "cell_type": "code",
   "execution_count": null,
   "id": "9f519a75",
   "metadata": {
    "execution": {
     "iopub.execute_input": "2025-04-14T19:49:51.316127Z",
     "iopub.status.busy": "2025-04-14T19:49:51.315655Z",
     "iopub.status.idle": "2025-04-14T19:49:54.575466Z",
     "shell.execute_reply": "2025-04-14T19:49:54.574592Z"
    },
    "papermill": {
     "duration": 3.285962,
     "end_time": "2025-04-14T19:49:54.577285",
     "exception": false,
     "start_time": "2025-04-14T19:49:51.291323",
     "status": "completed"
    },
    "tags": []
   },
   "outputs": [],
   "source": [
    "import pandas as pd \n",
    "import numpy as np\n",
    "import matplotlib.pyplot as plt \n",
    "import seaborn as sns\n",
    "from sklearn.preprocessing import StandardScaler, OneHotEncoder\n",
    "from sklearn.model_selection import train_test_split\n",
    "from sklearn.ensemble import RandomForestClassifier, GradientBoostingClassifier\n",
    "from sklearn.linear_model import LogisticRegression\n",
    "from sklearn.svm import SVC\n",
    "from sklearn.neighbors import KNeighborsClassifier\n",
    "from sklearn.metrics import classification_report\n",
    "import xgboost as xgb\n",
    "from sklearn.metrics import roc_auc_score, confusion_matrix, ConfusionMatrixDisplay,accuracy_score, classification_report\n",
    "from imblearn.under_sampling import RandomUnderSampler\n",
    "from collections import Counter\n"
   ]
  },
  {
   "cell_type": "code",
   "execution_count": 67,
   "id": "a1fd2cb3",
   "metadata": {
    "execution": {
     "iopub.execute_input": "2025-04-14T19:49:54.605636Z",
     "iopub.status.busy": "2025-04-14T19:49:54.605194Z",
     "iopub.status.idle": "2025-04-14T19:49:55.126939Z",
     "shell.execute_reply": "2025-04-14T19:49:55.126013Z"
    },
    "papermill": {
     "duration": 0.537949,
     "end_time": "2025-04-14T19:49:55.128695",
     "exception": false,
     "start_time": "2025-04-14T19:49:54.590746",
     "status": "completed"
    },
    "tags": []
   },
   "outputs": [],
   "source": [
    "# Read the dataset into a data frame\n",
    "df = pd.read_csv('Diabetes_preprocessed.csv')\n"
   ]
  },
  {
   "cell_type": "markdown",
   "id": "7457e2d9",
   "metadata": {
    "papermill": {
     "duration": 0.024444,
     "end_time": "2025-04-14T19:50:00.842949",
     "exception": false,
     "start_time": "2025-04-14T19:50:00.818505",
     "status": "completed"
    },
    "tags": []
   },
   "source": [
    "## 2. Preprocessing Data"
   ]
  },
  {
   "cell_type": "code",
   "execution_count": 68,
   "id": "3d2f6a04",
   "metadata": {
    "execution": {
     "iopub.execute_input": "2025-04-14T19:50:00.893594Z",
     "iopub.status.busy": "2025-04-14T19:50:00.893219Z",
     "iopub.status.idle": "2025-04-14T19:50:00.908237Z",
     "shell.execute_reply": "2025-04-14T19:50:00.907218Z"
    },
    "papermill": {
     "duration": 0.042419,
     "end_time": "2025-04-14T19:50:00.910149",
     "exception": false,
     "start_time": "2025-04-14T19:50:00.867730",
     "status": "completed"
    },
    "tags": []
   },
   "outputs": [],
   "source": [
    "# We will be dropping the clinical notes and since most people's smoking history is not known we will drop that too\n",
    "df = df.drop(['clinical_notes','smoking_history'], axis=1)"
   ]
  },
  {
   "cell_type": "code",
   "execution_count": 69,
   "id": "8e582d77",
   "metadata": {
    "execution": {
     "iopub.execute_input": "2025-04-14T19:50:00.961983Z",
     "iopub.status.busy": "2025-04-14T19:50:00.961602Z",
     "iopub.status.idle": "2025-04-14T19:50:00.967193Z",
     "shell.execute_reply": "2025-04-14T19:50:00.966366Z"
    },
    "papermill": {
     "duration": 0.033541,
     "end_time": "2025-04-14T19:50:00.968615",
     "exception": false,
     "start_time": "2025-04-14T19:50:00.935074",
     "status": "completed"
    },
    "tags": []
   },
   "outputs": [
    {
     "data": {
      "text/plain": [
       "Index(['year', 'gender', 'age', 'location', 'race:AfricanAmerican',\n",
       "       'race:Asian', 'race:Caucasian', 'race:Hispanic', 'race:Other',\n",
       "       'hypertension', 'heart_disease', 'bmi', 'hbA1c_level',\n",
       "       'blood_glucose_level', 'diabetes'],\n",
       "      dtype='object')"
      ]
     },
     "execution_count": 69,
     "metadata": {},
     "output_type": "execute_result"
    }
   ],
   "source": [
    "df.columns"
   ]
  },
  {
   "cell_type": "code",
   "execution_count": 70,
   "id": "8f2d59a3",
   "metadata": {
    "execution": {
     "iopub.execute_input": "2025-04-14T19:50:01.021105Z",
     "iopub.status.busy": "2025-04-14T19:50:01.020697Z",
     "iopub.status.idle": "2025-04-14T19:50:01.069543Z",
     "shell.execute_reply": "2025-04-14T19:50:01.068600Z"
    },
    "papermill": {
     "duration": 0.077219,
     "end_time": "2025-04-14T19:50:01.071316",
     "exception": false,
     "start_time": "2025-04-14T19:50:00.994097",
     "status": "completed"
    },
    "tags": []
   },
   "outputs": [],
   "source": [
    "# Dealing with categorical variables \n",
    "df = pd.get_dummies(df,columns=['gender'])  # Encoding the gender column \n",
    "\n",
    "#For location we will do frequency encoding\n",
    "location_freq = df['location'].value_counts(normalize=True)\n",
    "df['loc_freq'] = df['location'].map(location_freq)\n",
    "df.drop(['location'],axis=1, inplace=True)"
   ]
  },
  {
   "cell_type": "code",
   "execution_count": 71,
   "id": "8284f228",
   "metadata": {
    "execution": {
     "iopub.execute_input": "2025-04-14T19:50:01.122598Z",
     "iopub.status.busy": "2025-04-14T19:50:01.122257Z",
     "iopub.status.idle": "2025-04-14T19:50:01.138399Z",
     "shell.execute_reply": "2025-04-14T19:50:01.137326Z"
    },
    "papermill": {
     "duration": 0.043807,
     "end_time": "2025-04-14T19:50:01.139926",
     "exception": false,
     "start_time": "2025-04-14T19:50:01.096119",
     "status": "completed"
    },
    "tags": []
   },
   "outputs": [
    {
     "data": {
      "text/html": [
       "<div>\n",
       "<style scoped>\n",
       "    .dataframe tbody tr th:only-of-type {\n",
       "        vertical-align: middle;\n",
       "    }\n",
       "\n",
       "    .dataframe tbody tr th {\n",
       "        vertical-align: top;\n",
       "    }\n",
       "\n",
       "    .dataframe thead th {\n",
       "        text-align: right;\n",
       "    }\n",
       "</style>\n",
       "<table border=\"1\" class=\"dataframe\">\n",
       "  <thead>\n",
       "    <tr style=\"text-align: right;\">\n",
       "      <th></th>\n",
       "      <th>year</th>\n",
       "      <th>age</th>\n",
       "      <th>race:AfricanAmerican</th>\n",
       "      <th>race:Asian</th>\n",
       "      <th>race:Caucasian</th>\n",
       "      <th>race:Hispanic</th>\n",
       "      <th>race:Other</th>\n",
       "      <th>hypertension</th>\n",
       "      <th>heart_disease</th>\n",
       "      <th>bmi</th>\n",
       "      <th>hbA1c_level</th>\n",
       "      <th>blood_glucose_level</th>\n",
       "      <th>diabetes</th>\n",
       "      <th>gender_Female</th>\n",
       "      <th>gender_Male</th>\n",
       "      <th>gender_Other</th>\n",
       "      <th>loc_freq</th>\n",
       "    </tr>\n",
       "  </thead>\n",
       "  <tbody>\n",
       "    <tr>\n",
       "      <th>0</th>\n",
       "      <td>2020</td>\n",
       "      <td>32.0</td>\n",
       "      <td>0</td>\n",
       "      <td>0</td>\n",
       "      <td>0</td>\n",
       "      <td>0</td>\n",
       "      <td>1</td>\n",
       "      <td>0</td>\n",
       "      <td>0</td>\n",
       "      <td>27.32</td>\n",
       "      <td>5.0</td>\n",
       "      <td>100</td>\n",
       "      <td>0</td>\n",
       "      <td>True</td>\n",
       "      <td>False</td>\n",
       "      <td>False</td>\n",
       "      <td>0.02099</td>\n",
       "    </tr>\n",
       "    <tr>\n",
       "      <th>1</th>\n",
       "      <td>2015</td>\n",
       "      <td>29.0</td>\n",
       "      <td>0</td>\n",
       "      <td>1</td>\n",
       "      <td>0</td>\n",
       "      <td>0</td>\n",
       "      <td>0</td>\n",
       "      <td>0</td>\n",
       "      <td>0</td>\n",
       "      <td>19.95</td>\n",
       "      <td>5.0</td>\n",
       "      <td>90</td>\n",
       "      <td>0</td>\n",
       "      <td>True</td>\n",
       "      <td>False</td>\n",
       "      <td>False</td>\n",
       "      <td>0.02099</td>\n",
       "    </tr>\n",
       "    <tr>\n",
       "      <th>2</th>\n",
       "      <td>2015</td>\n",
       "      <td>18.0</td>\n",
       "      <td>0</td>\n",
       "      <td>0</td>\n",
       "      <td>0</td>\n",
       "      <td>0</td>\n",
       "      <td>1</td>\n",
       "      <td>0</td>\n",
       "      <td>0</td>\n",
       "      <td>23.76</td>\n",
       "      <td>4.8</td>\n",
       "      <td>160</td>\n",
       "      <td>0</td>\n",
       "      <td>False</td>\n",
       "      <td>True</td>\n",
       "      <td>False</td>\n",
       "      <td>0.02099</td>\n",
       "    </tr>\n",
       "    <tr>\n",
       "      <th>3</th>\n",
       "      <td>2015</td>\n",
       "      <td>41.0</td>\n",
       "      <td>0</td>\n",
       "      <td>0</td>\n",
       "      <td>1</td>\n",
       "      <td>0</td>\n",
       "      <td>0</td>\n",
       "      <td>0</td>\n",
       "      <td>0</td>\n",
       "      <td>27.32</td>\n",
       "      <td>4.0</td>\n",
       "      <td>159</td>\n",
       "      <td>0</td>\n",
       "      <td>False</td>\n",
       "      <td>True</td>\n",
       "      <td>False</td>\n",
       "      <td>0.02099</td>\n",
       "    </tr>\n",
       "    <tr>\n",
       "      <th>4</th>\n",
       "      <td>2016</td>\n",
       "      <td>52.0</td>\n",
       "      <td>1</td>\n",
       "      <td>0</td>\n",
       "      <td>0</td>\n",
       "      <td>0</td>\n",
       "      <td>0</td>\n",
       "      <td>0</td>\n",
       "      <td>0</td>\n",
       "      <td>23.75</td>\n",
       "      <td>6.5</td>\n",
       "      <td>90</td>\n",
       "      <td>0</td>\n",
       "      <td>True</td>\n",
       "      <td>False</td>\n",
       "      <td>False</td>\n",
       "      <td>0.02099</td>\n",
       "    </tr>\n",
       "  </tbody>\n",
       "</table>\n",
       "</div>"
      ],
      "text/plain": [
       "   year   age  race:AfricanAmerican  race:Asian  race:Caucasian  \\\n",
       "0  2020  32.0                     0           0               0   \n",
       "1  2015  29.0                     0           1               0   \n",
       "2  2015  18.0                     0           0               0   \n",
       "3  2015  41.0                     0           0               1   \n",
       "4  2016  52.0                     1           0               0   \n",
       "\n",
       "   race:Hispanic  race:Other  hypertension  heart_disease    bmi  hbA1c_level  \\\n",
       "0              0           1             0              0  27.32          5.0   \n",
       "1              0           0             0              0  19.95          5.0   \n",
       "2              0           1             0              0  23.76          4.8   \n",
       "3              0           0             0              0  27.32          4.0   \n",
       "4              0           0             0              0  23.75          6.5   \n",
       "\n",
       "   blood_glucose_level  diabetes  gender_Female  gender_Male  gender_Other  \\\n",
       "0                  100         0           True        False         False   \n",
       "1                   90         0           True        False         False   \n",
       "2                  160         0          False         True         False   \n",
       "3                  159         0          False         True         False   \n",
       "4                   90         0           True        False         False   \n",
       "\n",
       "   loc_freq  \n",
       "0   0.02099  \n",
       "1   0.02099  \n",
       "2   0.02099  \n",
       "3   0.02099  \n",
       "4   0.02099  "
      ]
     },
     "execution_count": 71,
     "metadata": {},
     "output_type": "execute_result"
    }
   ],
   "source": [
    "df.head()"
   ]
  },
  {
   "cell_type": "code",
   "execution_count": 72,
   "id": "9f5a7269",
   "metadata": {
    "execution": {
     "iopub.execute_input": "2025-04-14T19:50:01.191999Z",
     "iopub.status.busy": "2025-04-14T19:50:01.191632Z",
     "iopub.status.idle": "2025-04-14T19:50:01.197201Z",
     "shell.execute_reply": "2025-04-14T19:50:01.196285Z"
    },
    "papermill": {
     "duration": 0.033628,
     "end_time": "2025-04-14T19:50:01.198981",
     "exception": false,
     "start_time": "2025-04-14T19:50:01.165353",
     "status": "completed"
    },
    "tags": []
   },
   "outputs": [
    {
     "data": {
      "text/plain": [
       "Index(['year', 'age', 'race:AfricanAmerican', 'race:Asian', 'race:Caucasian',\n",
       "       'race:Hispanic', 'race:Other', 'hypertension', 'heart_disease', 'bmi',\n",
       "       'hbA1c_level', 'blood_glucose_level', 'diabetes', 'gender_Female',\n",
       "       'gender_Male', 'gender_Other', 'loc_freq'],\n",
       "      dtype='object')"
      ]
     },
     "execution_count": 72,
     "metadata": {},
     "output_type": "execute_result"
    }
   ],
   "source": [
    "df.columns"
   ]
  },
  {
   "cell_type": "code",
   "execution_count": 73,
   "id": "607b1442",
   "metadata": {
    "execution": {
     "iopub.execute_input": "2025-04-14T19:50:01.251321Z",
     "iopub.status.busy": "2025-04-14T19:50:01.250976Z",
     "iopub.status.idle": "2025-04-14T19:50:01.297690Z",
     "shell.execute_reply": "2025-04-14T19:50:01.296630Z"
    },
    "papermill": {
     "duration": 0.074871,
     "end_time": "2025-04-14T19:50:01.299472",
     "exception": false,
     "start_time": "2025-04-14T19:50:01.224601",
     "status": "completed"
    },
    "tags": []
   },
   "outputs": [
    {
     "data": {
      "text/html": [
       "<div>\n",
       "<style scoped>\n",
       "    .dataframe tbody tr th:only-of-type {\n",
       "        vertical-align: middle;\n",
       "    }\n",
       "\n",
       "    .dataframe tbody tr th {\n",
       "        vertical-align: top;\n",
       "    }\n",
       "\n",
       "    .dataframe thead th {\n",
       "        text-align: right;\n",
       "    }\n",
       "</style>\n",
       "<table border=\"1\" class=\"dataframe\">\n",
       "  <thead>\n",
       "    <tr style=\"text-align: right;\">\n",
       "      <th></th>\n",
       "      <th>year</th>\n",
       "      <th>age</th>\n",
       "      <th>race:AfricanAmerican</th>\n",
       "      <th>race:Asian</th>\n",
       "      <th>race:Caucasian</th>\n",
       "      <th>race:Hispanic</th>\n",
       "      <th>race:Other</th>\n",
       "      <th>hypertension</th>\n",
       "      <th>heart_disease</th>\n",
       "      <th>bmi</th>\n",
       "      <th>hbA1c_level</th>\n",
       "      <th>blood_glucose_level</th>\n",
       "      <th>diabetes</th>\n",
       "      <th>gender_Female</th>\n",
       "      <th>gender_Male</th>\n",
       "      <th>gender_Other</th>\n",
       "      <th>loc_freq</th>\n",
       "    </tr>\n",
       "  </thead>\n",
       "  <tbody>\n",
       "    <tr>\n",
       "      <th>0</th>\n",
       "      <td>1.218003</td>\n",
       "      <td>-0.438416</td>\n",
       "      <td>0</td>\n",
       "      <td>0</td>\n",
       "      <td>0</td>\n",
       "      <td>0</td>\n",
       "      <td>1</td>\n",
       "      <td>0</td>\n",
       "      <td>0</td>\n",
       "      <td>0.000044</td>\n",
       "      <td>-0.493079</td>\n",
       "      <td>-0.934414</td>\n",
       "      <td>0</td>\n",
       "      <td>True</td>\n",
       "      <td>False</td>\n",
       "      <td>False</td>\n",
       "      <td>0.02099</td>\n",
       "    </tr>\n",
       "    <tr>\n",
       "      <th>1</th>\n",
       "      <td>-2.545921</td>\n",
       "      <td>-0.571707</td>\n",
       "      <td>0</td>\n",
       "      <td>1</td>\n",
       "      <td>0</td>\n",
       "      <td>0</td>\n",
       "      <td>0</td>\n",
       "      <td>0</td>\n",
       "      <td>0</td>\n",
       "      <td>-1.110113</td>\n",
       "      <td>-0.493079</td>\n",
       "      <td>-1.179935</td>\n",
       "      <td>0</td>\n",
       "      <td>True</td>\n",
       "      <td>False</td>\n",
       "      <td>False</td>\n",
       "      <td>0.02099</td>\n",
       "    </tr>\n",
       "    <tr>\n",
       "      <th>2</th>\n",
       "      <td>-2.545921</td>\n",
       "      <td>-1.060442</td>\n",
       "      <td>0</td>\n",
       "      <td>0</td>\n",
       "      <td>0</td>\n",
       "      <td>0</td>\n",
       "      <td>1</td>\n",
       "      <td>0</td>\n",
       "      <td>0</td>\n",
       "      <td>-0.536205</td>\n",
       "      <td>-0.679877</td>\n",
       "      <td>0.538712</td>\n",
       "      <td>0</td>\n",
       "      <td>False</td>\n",
       "      <td>True</td>\n",
       "      <td>False</td>\n",
       "      <td>0.02099</td>\n",
       "    </tr>\n",
       "    <tr>\n",
       "      <th>3</th>\n",
       "      <td>-2.545921</td>\n",
       "      <td>-0.038542</td>\n",
       "      <td>0</td>\n",
       "      <td>0</td>\n",
       "      <td>1</td>\n",
       "      <td>0</td>\n",
       "      <td>0</td>\n",
       "      <td>0</td>\n",
       "      <td>0</td>\n",
       "      <td>0.000044</td>\n",
       "      <td>-1.427069</td>\n",
       "      <td>0.514160</td>\n",
       "      <td>0</td>\n",
       "      <td>False</td>\n",
       "      <td>True</td>\n",
       "      <td>False</td>\n",
       "      <td>0.02099</td>\n",
       "    </tr>\n",
       "    <tr>\n",
       "      <th>4</th>\n",
       "      <td>-1.793136</td>\n",
       "      <td>0.450193</td>\n",
       "      <td>1</td>\n",
       "      <td>0</td>\n",
       "      <td>0</td>\n",
       "      <td>0</td>\n",
       "      <td>0</td>\n",
       "      <td>0</td>\n",
       "      <td>0</td>\n",
       "      <td>-0.537712</td>\n",
       "      <td>0.907905</td>\n",
       "      <td>-1.179935</td>\n",
       "      <td>0</td>\n",
       "      <td>True</td>\n",
       "      <td>False</td>\n",
       "      <td>False</td>\n",
       "      <td>0.02099</td>\n",
       "    </tr>\n",
       "  </tbody>\n",
       "</table>\n",
       "</div>"
      ],
      "text/plain": [
       "       year       age  race:AfricanAmerican  race:Asian  race:Caucasian  \\\n",
       "0  1.218003 -0.438416                     0           0               0   \n",
       "1 -2.545921 -0.571707                     0           1               0   \n",
       "2 -2.545921 -1.060442                     0           0               0   \n",
       "3 -2.545921 -0.038542                     0           0               1   \n",
       "4 -1.793136  0.450193                     1           0               0   \n",
       "\n",
       "   race:Hispanic  race:Other  hypertension  heart_disease       bmi  \\\n",
       "0              0           1             0              0  0.000044   \n",
       "1              0           0             0              0 -1.110113   \n",
       "2              0           1             0              0 -0.536205   \n",
       "3              0           0             0              0  0.000044   \n",
       "4              0           0             0              0 -0.537712   \n",
       "\n",
       "   hbA1c_level  blood_glucose_level  diabetes  gender_Female  gender_Male  \\\n",
       "0    -0.493079            -0.934414         0           True        False   \n",
       "1    -0.493079            -1.179935         0           True        False   \n",
       "2    -0.679877             0.538712         0          False         True   \n",
       "3    -1.427069             0.514160         0          False         True   \n",
       "4     0.907905            -1.179935         0           True        False   \n",
       "\n",
       "   gender_Other  loc_freq  \n",
       "0         False   0.02099  \n",
       "1         False   0.02099  \n",
       "2         False   0.02099  \n",
       "3         False   0.02099  \n",
       "4         False   0.02099  "
      ]
     },
     "execution_count": 73,
     "metadata": {},
     "output_type": "execute_result"
    }
   ],
   "source": [
    "# Dealing with numerical columns \n",
    "scaler = StandardScaler()\n",
    "num_col = ['year', 'age','bmi','hbA1c_level','blood_glucose_level']\n",
    "df[num_col] = scaler.fit_transform(df[num_col])\n",
    "df.head()"
   ]
  },
  {
   "cell_type": "markdown",
   "id": "98ecaef8",
   "metadata": {
    "papermill": {
     "duration": 0.024951,
     "end_time": "2025-04-14T19:50:01.350514",
     "exception": false,
     "start_time": "2025-04-14T19:50:01.325563",
     "status": "completed"
    },
    "tags": []
   },
   "source": [
    "## 3. Feature Engineering "
   ]
  },
  {
   "cell_type": "markdown",
   "id": "a9314c60",
   "metadata": {
    "papermill": {
     "duration": 0.024971,
     "end_time": "2025-04-14T19:50:01.400613",
     "exception": false,
     "start_time": "2025-04-14T19:50:01.375642",
     "status": "completed"
    },
    "tags": []
   },
   "source": [
    "We will here create another dataset and do some feature engineering to see if adding certain features contributes towards a better prediction "
   ]
  },
  {
   "cell_type": "code",
   "execution_count": 74,
   "id": "efe5d0b2",
   "metadata": {
    "execution": {
     "iopub.execute_input": "2025-04-14T19:50:01.452512Z",
     "iopub.status.busy": "2025-04-14T19:50:01.452189Z",
     "iopub.status.idle": "2025-04-14T19:50:01.458481Z",
     "shell.execute_reply": "2025-04-14T19:50:01.457594Z"
    },
    "papermill": {
     "duration": 0.034259,
     "end_time": "2025-04-14T19:50:01.460203",
     "exception": false,
     "start_time": "2025-04-14T19:50:01.425944",
     "status": "completed"
    },
    "tags": []
   },
   "outputs": [],
   "source": [
    "#1. Age BMI interaction \n",
    "df['age_bmi'] = df['age'] * df['bmi']\n",
    "df['comorbidity_count'] = df['hypertension'] + df['heart_disease']"
   ]
  },
  {
   "cell_type": "markdown",
   "id": "5797f307",
   "metadata": {
    "papermill": {
     "duration": 0.026007,
     "end_time": "2025-04-14T19:50:01.512485",
     "exception": false,
     "start_time": "2025-04-14T19:50:01.486478",
     "status": "completed"
    },
    "tags": []
   },
   "source": [
    "## 4. Using different ML Algorithms"
   ]
  },
  {
   "cell_type": "code",
   "execution_count": 75,
   "id": "5f4c8b7b",
   "metadata": {},
   "outputs": [],
   "source": [
    "x = df.drop('diabetes', axis=1)\n",
    "y = df['diabetes']"
   ]
  },
  {
   "cell_type": "code",
   "execution_count": 76,
   "id": "dd49fe6f",
   "metadata": {},
   "outputs": [],
   "source": [
    "X_train, X_test, y_train, y_test = train_test_split(X, y, test_size=0.2, random_state=42)"
   ]
  },
  {
   "cell_type": "code",
   "execution_count": 77,
   "id": "d56c524b",
   "metadata": {},
   "outputs": [],
   "source": [
    "numerical_cols = ['year', 'age', 'bmi', 'hbA1c_level', 'blood_glucose_level', 'loc_freq']"
   ]
  },
  {
   "cell_type": "code",
   "execution_count": 78,
   "id": "e4550fa6",
   "metadata": {},
   "outputs": [],
   "source": [
    "scaler = StandardScaler()\n",
    "X_train[numerical_cols] = scaler.fit_transform(X_train[numerical_cols])\n",
    "X_test[numerical_cols] = scaler.transform(X_test[numerical_cols])"
   ]
  },
  {
   "cell_type": "code",
   "execution_count": 79,
   "id": "ef15b05d",
   "metadata": {},
   "outputs": [
    {
     "name": "stdout",
     "output_type": "stream",
     "text": [
      "Class distribution before under-sampling:\n",
      "diabetes\n",
      "0    71020\n",
      "1     6579\n",
      "Name: count, dtype: int64\n"
     ]
    }
   ],
   "source": [
    "print(\"Class distribution before under-sampling:\")\n",
    "print(y_train.value_counts())"
   ]
  },
  {
   "cell_type": "code",
   "execution_count": 80,
   "id": "ad3a0972",
   "metadata": {},
   "outputs": [],
   "source": [
    "minority_class_count = y_train.value_counts().min() \n",
    "sampling_strategy = {0: minority_class_count * 2, 1: minority_class_count}"
   ]
  },
  {
   "cell_type": "code",
   "execution_count": 81,
   "id": "d7af7b44",
   "metadata": {},
   "outputs": [],
   "source": [
    "rus = RandomUnderSampler(sampling_strategy=sampling_strategy, random_state=42)\n",
    "X_resampled, y_resampled = rus.fit_resample(X_train, y_train)"
   ]
  },
  {
   "cell_type": "code",
   "execution_count": 82,
   "id": "0fd6bb84",
   "metadata": {},
   "outputs": [
    {
     "name": "stdout",
     "output_type": "stream",
     "text": [
      "\n",
      "Class distribution after under-sampling:\n",
      "diabetes\n",
      "0    13158\n",
      "1     6579\n",
      "Name: count, dtype: int64\n"
     ]
    }
   ],
   "source": [
    "print(\"\\nClass distribution after under-sampling:\")\n",
    "print(y_resampled.value_counts())"
   ]
  },
  {
   "cell_type": "code",
   "execution_count": null,
   "id": "e8fc1fa9",
   "metadata": {},
   "outputs": [
    {
     "name": "stdout",
     "output_type": "stream",
     "text": [
      "Before SMOTE: Counter({0: 71020, 1: 6579})\n",
      "After SMOTE: Counter({0: 13158, 1: 6579})\n"
     ]
    }
   ],
   "source": [
    "print(\"Before SMOTE:\", Counter(y_train))\n",
    "print(\"After SMOTE:\", Counter(y_resampled))"
   ]
  },
  {
   "cell_type": "code",
   "execution_count": 84,
   "id": "63954c89",
   "metadata": {
    "execution": {
     "iopub.execute_input": "2025-04-14T19:50:02.002635Z",
     "iopub.status.busy": "2025-04-14T19:50:02.002302Z",
     "iopub.status.idle": "2025-04-14T19:51:10.155552Z",
     "shell.execute_reply": "2025-04-14T19:51:10.154488Z"
    },
    "papermill": {
     "duration": 68.181843,
     "end_time": "2025-04-14T19:51:10.157460",
     "exception": false,
     "start_time": "2025-04-14T19:50:01.975617",
     "status": "completed"
    },
    "tags": []
   },
   "outputs": [
    {
     "name": "stdout",
     "output_type": "stream",
     "text": [
      "\n",
      "LogisticRegression:\n",
      "\n",
      "              precision    recall  f1-score   support\n",
      "\n",
      "           0       0.97      0.99      0.98     17740\n",
      "           1       0.87      0.62      0.72      1660\n",
      "\n",
      "    accuracy                           0.96     19400\n",
      "   macro avg       0.92      0.81      0.85     19400\n",
      "weighted avg       0.96      0.96      0.96     19400\n",
      "\n",
      "AUC: 0.9594764741038563\n"
     ]
    },
    {
     "data": {
      "image/png": "[encoded data removed]",
      "text/plain": [
       "<Figure size 640x480 with 2 Axes>"
      ]
     },
     "metadata": {},
     "output_type": "display_data"
    },
    {
     "name": "stdout",
     "output_type": "stream",
     "text": [
      "\n",
      "Random Forest:\n",
      "\n",
      "              precision    recall  f1-score   support\n",
      "\n",
      "           0       0.97      1.00      0.98     17740\n",
      "           1       0.98      0.67      0.80      1660\n",
      "\n",
      "    accuracy                           0.97     19400\n",
      "   macro avg       0.97      0.84      0.89     19400\n",
      "weighted avg       0.97      0.97      0.97     19400\n",
      "\n",
      "AUC: 0.9617167825756238\n"
     ]
    },
    {
     "data": {
      "image/png": "[encoded data removed]",
      "text/plain": [
       "<Figure size 640x480 with 2 Axes>"
      ]
     },
     "metadata": {},
     "output_type": "display_data"
    },
    {
     "name": "stdout",
     "output_type": "stream",
     "text": [
      "\n",
      "Gradient Boosting:\n",
      "\n",
      "              precision    recall  f1-score   support\n",
      "\n",
      "           0       0.97      1.00      0.98     17740\n",
      "           1       0.99      0.67      0.80      1660\n",
      "\n",
      "    accuracy                           0.97     19400\n",
      "   macro avg       0.98      0.83      0.89     19400\n",
      "weighted avg       0.97      0.97      0.97     19400\n",
      "\n",
      "AUC: 0.9766945572594776\n"
     ]
    },
    {
     "data": {
      "image/png": "[encoded data removed]",
      "text/plain": [
       "<Figure size 640x480 with 2 Axes>"
      ]
     },
     "metadata": {},
     "output_type": "display_data"
    },
    {
     "name": "stdout",
     "output_type": "stream",
     "text": [
      "\n",
      "K-Nearest Neighbors:\n",
      "\n",
      "              precision    recall  f1-score   support\n",
      "\n",
      "           0       0.96      0.99      0.98     17740\n",
      "           1       0.90      0.58      0.70      1660\n",
      "\n",
      "    accuracy                           0.96     19400\n",
      "   macro avg       0.93      0.79      0.84     19400\n",
      "weighted avg       0.96      0.96      0.95     19400\n",
      "\n",
      "AUC: 0.8941784782874451\n"
     ]
    },
    {
     "data": {
      "image/png": "[encoded data removed]",
      "text/plain": [
       "<Figure size 640x480 with 2 Axes>"
      ]
     },
     "metadata": {},
     "output_type": "display_data"
    },
    {
     "name": "stderr",
     "output_type": "stream",
     "text": [
      "/home/codespace/.python/current/lib/python3.12/site-packages/xgboost/training.py:183: UserWarning: [00:07:10] WARNING: /workspace/src/learner.cc:738: \n",
      "Parameters: { \"use_label_encoder\" } are not used.\n",
      "\n",
      "  bst.update(dtrain, iteration=i, fobj=obj)\n"
     ]
    },
    {
     "name": "stdout",
     "output_type": "stream",
     "text": [
      "\n",
      "XGBoost:\n",
      "\n",
      "              precision    recall  f1-score   support\n",
      "\n",
      "           0       0.97      1.00      0.98     17740\n",
      "           1       0.99      0.67      0.80      1660\n",
      "\n",
      "    accuracy                           0.97     19400\n",
      "   macro avg       0.98      0.83      0.89     19400\n",
      "weighted avg       0.97      0.97      0.97     19400\n",
      "\n",
      "AUC: 0.9768077213023458\n"
     ]
    },
    {
     "data": {
      "image/png": "[encoded data removed]",
      "text/plain": [
       "<Figure size 640x480 with 2 Axes>"
      ]
     },
     "metadata": {},
     "output_type": "display_data"
    }
   ],
   "source": [
    "# Different models to classify\n",
    "models = {\n",
    "    \"LogisticRegression\": LogisticRegression(max_iter=1000), \n",
    "    \"Random Forest\" : RandomForestClassifier(),\n",
    "    \"Gradient Boosting\": GradientBoostingClassifier(),\n",
    "    \"K-Nearest Neighbors\": KNeighborsClassifier(),\n",
    "    \"XGBoost\": xgb.XGBClassifier(n_estimators=50, max_depth=3, use_label_encoder=False, eval_metric='logloss')\n",
    "\n",
    "}\n",
    "\n",
    "for name, model in models.items():\n",
    "    model.fit(X_train, y_train)\n",
    "    y_pred = model.predict(X_test)\n",
    "    \n",
    "    print(f\"\\n{name}:\\n\")\n",
    "    print(classification_report(y_test, y_pred))\n",
    "    \n",
    "    y_probs = model.predict_proba(X_test)[:, 1]\n",
    "    print(\"AUC:\", roc_auc_score(y_test, y_probs))\n",
    "    \n",
    "    cm = confusion_matrix(y_test, y_pred)\n",
    "    disp = ConfusionMatrixDisplay(cm)\n",
    "    fig, ax = plt.subplots()\n",
    "    disp.plot(ax=ax)\n",
    "    ax.set_title(f\"Confusion Matrix: {name}\")\n",
    "    plt.show()\n"
   ]
  },
  {
   "cell_type": "markdown",
   "id": "27fe029f",
   "metadata": {
    "papermill": {
     "duration": 0.029614,
     "end_time": "2025-04-14T19:51:10.219238",
     "exception": false,
     "start_time": "2025-04-14T19:51:10.189624",
     "status": "completed"
    },
    "tags": []
   },
   "source": [
    "| Model | Precision | Recall | F1-Score | AUC|\n",
    "|-------|-----------|--------|----------|----|\n",
    "|Random Forest | 0.80   |   0.74 |     0.77 | 0.96924 |\n",
    "|Gradient Boosting | 0.77   |   0.77   |   0.77 | 0.97608 |\n",
    "|XGBoost | 0.88   |   0.73    |  0.80 | 0.97707 |"
   ]
  },
  {
   "cell_type": "code",
   "execution_count": 85,
   "id": "df12e2b8",
   "metadata": {
    "papermill": {
     "duration": 0.029114,
     "end_time": "2025-04-14T19:51:10.397351",
     "exception": false,
     "start_time": "2025-04-14T19:51:10.368237",
     "status": "completed"
    },
    "tags": []
   },
   "outputs": [
    {
     "data": {
      "text/plain": [
       "['best_diabetes_model.pkl']"
      ]
     },
     "execution_count": 85,
     "metadata": {},
     "output_type": "execute_result"
    }
   ],
   "source": [
    "import joblib\n",
    "\n",
    "best_model = models[\"XGBoost\"]\n",
    "joblib.dump(best_model, 'best_diabetes_model.pkl')"
   ]
  }
 ],
 "metadata": {
  "kaggle": {
   "accelerator": "none",
   "dataSources": [
    {
     "datasetId": 6620808,
     "sourceId": 10686324,
     "sourceType": "datasetVersion"
    }
   ],
   "dockerImageVersionId": 30918,
   "isGpuEnabled": false,
   "isInternetEnabled": true,
   "language": "python",
   "sourceType": "notebook"
  },
  "kernelspec": {
   "display_name": "Python 3",
   "language": "python",
   "name": "python3"
  },
  "language_info": {
   "codemirror_mode": {
    "name": "ipython",
    "version": 3
   },
   "file_extension": ".py",
   "mimetype": "text/x-python",
   "name": "python",
   "nbconvert_exporter": "python",
   "pygments_lexer": "ipython3",
   "version": "3.12.1"
  },
  "papermill": {
   "default_parameters": {},
   "duration": 82.93327,
   "end_time": "2025-04-14T19:51:11.148722",
   "environment_variables": {},
   "exception": null,
   "input_path": "__notebook__.ipynb",
   "output_path": "__notebook__.ipynb",
   "parameters": {},
   "start_time": "2025-04-14T19:49:48.215452",
   "version": "2.6.0"
  }
 },
 "nbformat": 4,
 "nbformat_minor": 5
}
